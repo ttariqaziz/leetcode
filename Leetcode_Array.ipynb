{
  "nbformat": 4,
  "nbformat_minor": 0,
  "metadata": {
    "colab": {
      "provenance": []
    },
    "kernelspec": {
      "name": "python3",
      "display_name": "Python 3"
    },
    "language_info": {
      "name": "python"
    }
  },
  "cells": [
    {
      "cell_type": "markdown",
      "source": [
        "# **ARRAY**\n",
        "\n",
        "---\n",
        "\n",
        "\n",
        "**Two Sum:**\n",
        "Given an array of integers nums and an integer target, return indices of the two numbers such that they add up to target.\n",
        "\n",
        "You may assume that each input would have exactly one solution, and you may not use the same element twice.\n",
        "\n",
        "You can return the answer in any order.\n",
        "\n",
        " \n",
        "\n",
        "Example 1:\n",
        "\n",
        "Input: nums = [2,7,11,15], target = 9\n",
        "\n",
        "Output: [0,1]\n",
        "\n",
        "Explanation: Because nums[0] + nums[1] == 9, we return [0, 1]."
      ],
      "metadata": {
        "id": "Z5RR4RcmPwXM"
      }
    },
    {
      "cell_type": "code",
      "source": [
        "def twoSum(nums, target):\n",
        "    # create a dictionary to store the indices of visited numbers\n",
        "    visited = {}\n",
        "    # loop through each number in the list\n",
        "    for i, num in enumerate(nums):\n",
        "        # calculate the complement of the current number with respect to the target\n",
        "        complement = target - num\n",
        "        # if the complement is in the visited dictionary, we have found our solution\n",
        "        if complement in visited:\n",
        "            # return the indices of the two numbers\n",
        "            return [visited[complement], i]\n",
        "        # add the current number and its index to the visited dictionary\n",
        "        visited[num] = i\n",
        "    # if no solution is found, return None or raise an exception\n",
        "    return None\n"
      ],
      "metadata": {
        "id": "hjOuXFgmVNDs"
      },
      "execution_count": 10,
      "outputs": []
    },
    {
      "cell_type": "code",
      "source": [
        "nums = [2,7,11,15]\n",
        "target = 18\n",
        "result = twoSum(nums, target)\n",
        "print(result)\n"
      ],
      "metadata": {
        "colab": {
          "base_uri": "https://localhost:8080/"
        },
        "id": "OfMdZa7QU6GF",
        "outputId": "27e6b77a-cc21-4eac-922a-a8b5b78a785a"
      },
      "execution_count": 19,
      "outputs": [
        {
          "output_type": "stream",
          "name": "stdout",
          "text": [
            "[1, 2]\n"
          ]
        }
      ]
    },
    {
      "cell_type": "markdown",
      "source": [
        "**Best Time to Buy and Sell**\n",
        "\n",
        "You are given an array prices where prices[i] is the price of a given stock on the ith day.\n",
        "\n",
        "You want to maximize your profit by choosing a single day to buy one stock and choosing a different day in the future to sell that stock.\n",
        "\n",
        "Return the maximum profit you can achieve from this transaction. If you cannot achieve any profit, return 0.\n",
        "\n",
        " \n",
        "\n",
        "Example 1:\n",
        "\n",
        "Input: prices = [7,1,5,3,6,4]\n",
        "Output: 5\n",
        "Explanation: Buy on day 2 (price = 1) and sell on day 5 (price = 6), profit = 6-1 = 5.\n",
        "\n",
        "Note that buying on day 2 and selling on day 1 is not allowed because you must buy before you sell."
      ],
      "metadata": {
        "id": "S9A-uSqLYvoV"
      }
    },
    {
      "cell_type": "code",
      "source": [
        "'''\n",
        "\n",
        "# Define the function max_profit\n",
        "def max_profit(prices):\n",
        "    \"\"\"\n",
        "    :type prices: List[int]\n",
        "    :rtype: int\n",
        "    \"\"\"\n",
        "    \n",
        "    # Initialize min_price to be positive infinity\n",
        "    min_price = float('inf')\n",
        "    \n",
        "    # Initialize max_profit to be 0\n",
        "    max_profit = 0\n",
        "    \n",
        "    # Loop over the prices in the input list\n",
        "    for price in prices:\n",
        "        \n",
        "        # If the current price is less than the minimum price we've seen so far, update min_price\n",
        "        if price < min_price:\n",
        "            min_price = price\n",
        "        \n",
        "        # If the current price minus the minimum price is greater than the max profit we've seen so far, update max_profit\n",
        "        elif price - min_price > max_profit:\n",
        "            max_profit = price - min_price\n",
        "            \n",
        "    # Return the maximum profit we can make\n",
        "    return max_profit\n",
        "'''"
      ],
      "metadata": {
        "id": "K_-2Jojp_TxY"
      },
      "execution_count": null,
      "outputs": []
    },
    {
      "cell_type": "code",
      "source": [
        "# limitation on max profit each day\n",
        "\n",
        "def max_profit(prices):\n",
        "    \"\"\"\n",
        "    :type prices: List[int]\n",
        "    :rtype: int\n",
        "    \"\"\"\n",
        "    min_price = float('inf')   # infinite min value ,let's change it to 0 (min_price = 0)\n",
        "    max_profit = 0\n",
        "    \n",
        "    for price in prices:       # price -> at that moment\n",
        "        if price < min_price:\n",
        "            min_price = price\n",
        "        elif price - min_price > max_profit:\n",
        "            max_profit = price - min_price\n",
        "            \n",
        "    return max_profit\n"
      ],
      "metadata": {
        "id": "GiMmNuxOYu_h"
      },
      "execution_count": 8,
      "outputs": []
    },
    {
      "cell_type": "code",
      "source": [
        "prices = [7,1,5,3,6,4]\n",
        "print(max_profit(prices))"
      ],
      "metadata": {
        "colab": {
          "base_uri": "https://localhost:8080/"
        },
        "id": "b13H3-v0Yu7u",
        "outputId": "7cb1974c-9974-4d45-8ba6-885f546a03e5"
      },
      "execution_count": 9,
      "outputs": [
        {
          "output_type": "stream",
          "name": "stdout",
          "text": [
            "5\n"
          ]
        }
      ]
    },
    {
      "cell_type": "markdown",
      "source": [
        "**Contain Duplicates**\n",
        "\n",
        "Given an integer array nums, return true if any value appears at least twice in the array, and return false if every element is distinct.\n",
        "\n",
        " \n",
        "\n",
        "Example 1:\n",
        "\n",
        "Input: nums = [1,2,3,1]\n",
        "Output: true\n",
        "Example 2:\n",
        "\n",
        "Input: nums = [1,2,3,4]\n",
        "Output: false\n",
        "Example 3:\n",
        "\n",
        "Input: nums = [1,1,1,3,3,4,3,2,4,2]\n",
        "Output: true"
      ],
      "metadata": {
        "id": "ZsDt26rOGDJy"
      }
    },
    {
      "cell_type": "code",
      "source": [
        "\n",
        "# Define function to check if the given list contains duplicates\n",
        "def contains_duplicate(nums):\n",
        "    \"\"\"\n",
        "    :type nums: List[int]\n",
        "    :rtype: bool\n",
        "    \"\"\"\n",
        "    # Create a set to store unique numbers\n",
        "    num_set = set()\n",
        "\n",
        "    # Loop through the list\n",
        "    for num in nums:\n",
        "      # If the number is already in the set, it is a duplicate\n",
        "        if num in num_set:\n",
        "            return True\n",
        "      # If the number is not in the set, add it to the set\n",
        "        else:\n",
        "            num_set.add(num)\n",
        "      \n",
        "    # If no duplicates are found, return False\n",
        "    return False\n"
      ],
      "metadata": {
        "id": "HXf6qGBtYu6X"
      },
      "execution_count": 22,
      "outputs": []
    },
    {
      "cell_type": "code",
      "source": [
        "print(contains_duplicate([1,2,3,1]))              # Output: True\n",
        "print(contains_duplicate([1,2,3,4]))              # Output: False\n",
        "print(contains_duplicate([1,1,1,3,3,4,3,2,4,2]))  # Output: True\n"
      ],
      "metadata": {
        "colab": {
          "base_uri": "https://localhost:8080/"
        },
        "id": "s0J1zr3qYu3o",
        "outputId": "45f919f6-9d18-4abd-8076-4286981f7528"
      },
      "execution_count": 21,
      "outputs": [
        {
          "output_type": "stream",
          "name": "stdout",
          "text": [
            "True\n",
            "False\n",
            "True\n"
          ]
        }
      ]
    },
    {
      "cell_type": "markdown",
      "source": [
        "**Product of Array, Except Self**\n",
        "\n",
        "Given an integer array nums, return an array answer such that answer[i] is equal to the product of all the elements of nums except nums[i].\n",
        "\n",
        "The product of any prefix or suffix of nums is guaranteed to fit in a 32-bit integer.\n",
        "\n",
        "You must write an algorithm that runs in O(n) time and without using the division operation.\n",
        "\n",
        " \n",
        "\n",
        "Example 1:\n",
        "\n",
        "Input: nums = [1,2,3,4]\n",
        "Output: [24,12,8,6]\n",
        "\n",
        "Example 2:\n",
        "\n",
        "Input: nums = [-1,1,0,-3,3]\n",
        "Output: [0,0,9,0,0]"
      ],
      "metadata": {
        "id": "v07hpCbULO15"
      }
    },
    {
      "cell_type": "code",
      "source": [
        "# Define a function that takes an integer array and returns an array with the product of all the elements except the current element\n",
        "def product_except_self(nums):\n",
        "    n = len(nums)\n",
        "    \n",
        "    # Initialize two arrays to store the prefix and suffix products of each element in the array\n",
        "    prefix = [1] * n\n",
        "    suffix = [1] * n\n",
        "    \n",
        "    # Calculate prefix products\n",
        "    for i in range(1, n):\n",
        "        prefix[i] = prefix[i-1] * nums[i-1]\n",
        "    \n",
        "    # Calculate suffix products\n",
        "    for i in range(n-2, -1, -1):\n",
        "        suffix[i] = suffix[i+1] * nums[i+1]\n",
        "    \n",
        "    # Calculate product of prefix and suffix products\n",
        "    result = [prefix[i] * suffix[i] for i in range(n)]\n",
        "    \n",
        "    # Print the resulting array\n",
        "    #print(result)\n",
        "    \n",
        "    # Return the resulting array\n",
        "    return result\n",
        "\n",
        "# Example usage\n",
        "print(product_except_self([1, 2, 3, 4]))\n",
        "print(product_except_self([-1,1,0,-3,3]))\n"
      ],
      "metadata": {
        "colab": {
          "base_uri": "https://localhost:8080/"
        },
        "id": "BgTSXaQUL6jC",
        "outputId": "46dd77de-e3e0-4ac7-d023-ef9f961933b6"
      },
      "execution_count": 37,
      "outputs": [
        {
          "output_type": "stream",
          "name": "stdout",
          "text": [
            "[24, 12, 8, 6]\n",
            "[0, 0, 9, 0, 0]\n"
          ]
        }
      ]
    },
    {
      "cell_type": "markdown",
      "source": [
        "**Maximum Sub-Array**\n",
        "\n",
        "Given an integer array nums, find the \n",
        "subarray\n",
        " with the largest sum, and return its sum.\n",
        "\n",
        " \n",
        "\n",
        "Example 1:\n",
        "\n",
        "Input: nums = [-2,1,-3,4,-1,2,1,-5,4]\n",
        "Output: 6\n",
        "Explanation: The subarray [4,-1,2,1] has the largest sum 6.\n",
        "Example 2:\n",
        "\n",
        "Input: nums = [1]\n",
        "Output: 1\n",
        "Explanation: The subarray [1] has the largest sum 1.\n",
        "Example 3:\n",
        "\n",
        "Input: nums = [5,4,-1,7,8]\n",
        "Output: 23\n",
        "Explanation: The subarray [5,4,-1,7,8] has the largest sum 23."
      ],
      "metadata": {
        "id": "X1k_56WGyw_A"
      }
    },
    {
      "cell_type": "code",
      "source": [
        "def max_subarray_sum(nums):\n",
        "    max_sum = float('-inf')  # Initialize the maximum sum to a very small number\n",
        "    current_sum = 0  # Initialize the current sum to zero\n",
        "    for num in nums:\n",
        "        current_sum += num\n",
        "        max_sum = max(max_sum, current_sum)  # Update the maximum sum if the current sum is larger\n",
        "        current_sum = max(current_sum, 0)  # Reset the current sum if it becomes negative\n",
        "    return max_sum\n"
      ],
      "metadata": {
        "id": "V7FJSZogypJn"
      },
      "execution_count": 1,
      "outputs": []
    },
    {
      "cell_type": "code",
      "source": [
        "#nums = [-2,1,-3,4,-1,2,1,-5,4]\n",
        "nums = [5,4,-1,7,8]\n",
        "print(max_subarray_sum(nums))  # Output: 6"
      ],
      "metadata": {
        "colab": {
          "base_uri": "https://localhost:8080/"
        },
        "id": "U5A3gCdtypGM",
        "outputId": "215777ea-7b52-498f-8767-9725fe731d5f"
      },
      "execution_count": 3,
      "outputs": [
        {
          "output_type": "stream",
          "name": "stdout",
          "text": [
            "23\n"
          ]
        }
      ]
    },
    {
      "cell_type": "markdown",
      "source": [
        "**Maximum Product Sub-Array**\n",
        "\n",
        "Given an integer array nums, find a subarray  that has the largest product, and return the product.\n",
        "\n",
        "The test cases are generated so that the answer will fit in a 32-bit integer.\n",
        "\n",
        " \n",
        "\n",
        "Example 1:\n",
        "\n",
        "Input: nums = [2,3,-2,4]\n",
        "Output: 6\n",
        "Explanation: [2,3] has the largest product 6.\n",
        "Example 2:\n",
        "\n",
        "Input: nums = [-2,0,-1]\n",
        "Output: 0\n",
        "Explanation: The result cannot be 2, because [-2,-1] is not a subarray."
      ],
      "metadata": {
        "id": "zSXVB5MA7mWf"
      }
    },
    {
      "cell_type": "code",
      "source": [
        "def max_product_subarray(nums):\n",
        "    if not nums:\n",
        "        return 0\n",
        "\n",
        "    max_product = nums[0]  # Initialize the maximum product to the first element\n",
        "    min_product = nums[0]  # Initialize the minimum product to the first element\n",
        "    result = max_product  # Initialize the result to the first element\n",
        "\n",
        "    for i in range(1, len(nums)):\n",
        "        curr = nums[i]\n",
        "        temp_max = max(curr, max_product * curr, min_product * curr)\n",
        "        min_product = min(curr, max_product * curr, min_product * curr)\n",
        "        max_product = temp_max\n",
        "        result = max(result, max_product)\n",
        "\n",
        "    return result"
      ],
      "metadata": {
        "id": "gFWU9NmFypEO"
      },
      "execution_count": 4,
      "outputs": []
    },
    {
      "cell_type": "code",
      "source": [
        "def max_product_subarray(nums):\n",
        "    if not nums:\n",
        "        return 0\n",
        "\n",
        "    n = len(nums)\n",
        "    max_prod = [0] * n  # Create an array to store the maximum product ending at each index\n",
        "    min_prod = [0] * n  # Create an array to store the minimum product ending at each index\n",
        "    max_prod[0] = nums[0]  # Initialize the maximum product ending at the first index\n",
        "    min_prod[0] = nums[0]  # Initialize the minimum product ending at the first index\n",
        "\n",
        "    for i in range(1, n):\n",
        "        if nums[i] >= 0:\n",
        "            max_prod[i] = max(nums[i], max_prod[i-1]*nums[i])\n",
        "            min_prod[i] = min(nums[i], min_prod[i-1]*nums[i])\n",
        "        else:\n",
        "            max_prod[i] = max(nums[i], min_prod[i-1]*nums[i])\n",
        "            min_prod[i] = min(nums[i], max_prod[i-1]*nums[i])\n",
        "\n",
        "    return max(max_prod)\n"
      ],
      "metadata": {
        "id": "1oEZGLiR8e-I"
      },
      "execution_count": null,
      "outputs": []
    },
    {
      "cell_type": "code",
      "source": [
        "#nums = [2,3,-2,4]\n",
        "nums = [5,4,0,7,8,-1]\n",
        "print(max_product_subarray(nums))  # Output: 6\n"
      ],
      "metadata": {
        "colab": {
          "base_uri": "https://localhost:8080/"
        },
        "id": "i8sgrlAGYu1l",
        "outputId": "4b00d9b5-e9c7-4652-fa4c-fd97e026c96f"
      },
      "execution_count": 6,
      "outputs": [
        {
          "output_type": "stream",
          "name": "stdout",
          "text": [
            "56\n"
          ]
        }
      ]
    },
    {
      "cell_type": "code",
      "source": [],
      "metadata": {
        "id": "Fj1lrR_RbTas"
      },
      "execution_count": null,
      "outputs": []
    }
  ]
}